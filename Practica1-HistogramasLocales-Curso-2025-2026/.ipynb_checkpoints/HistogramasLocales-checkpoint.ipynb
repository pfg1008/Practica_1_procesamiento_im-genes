{
 "cells": [
  {
   "cell_type": "markdown",
   "metadata": {},
   "source": [
    "<img style=\"float:left\" width=\"70%\" src=\"pics/escudo_COLOR_1L_DCHA.png\">\n",
    "<img style=\"float:right\" width=\"15%\" src=\"pics/PythonLogo.svg\">\n",
    "<br style=\"clear:both;\">\n",
    "\n",
    "<h2 style=\"display: inline-block; padding: 4mm; padding-left: 2em; background-color: navy; line-height: 1.3em; color: white; border-radius: 10px;\">Histogramas</h2>\n",
    "\n",
    "\n",
    "## PARTE I: Procesamiento *global* vs *local* \n",
    "\n",
    "## Docente\n",
    "\n",
    "#### Autor: Pedro Latorre Carmona\n",
    "\n",
    "Curso 2025-2026\n",
    "\n",
    "Versión 1.0\n",
    "\n",
    "---"
   ]
  },
  {
   "cell_type": "markdown",
   "metadata": {},
   "source": [
    "## Enunciado de la práctica\n",
    "\n",
    "En esta práctica, vamos a analizar los potenciales beneficios de aplicar alguna técnica de extensión del rango dinámico de una imagen, de forma global, y de forma local.\n",
    "\n",
    "Los objetivos a cubrir en esta práctica van a ser los siguientes:\n",
    "\n",
    "1. Analizar y entender la distribución de niveles de gris de la imagen **GreyScaleMicroscopyImage.png**.\n",
    "\n",
    "\n",
    "2. Plantear un método de transformación del histograma *por partes*, adecuado para la totalidad de la imagen.\n",
    "\n",
    "\n",
    "3. Programar la posibilidad de *trocear la imagen en partes*, obtener el histograma de cada una de ellas, y definir un método alternativo de transformación del histograma por partes, que se adapte mejor a estas *imágenes locales*.\n",
    "\n",
    "\n",
    "4. Hacer un programa que a partir de las *imágenes parciales* obtenidas en \"3.\", genere una nueva imagen *resultante*.\n",
    "\n",
    "**NOTAS**: \n",
    "\n",
    "**(A)** Tened en cuenta que la imagen es de $24$ bits. Es decir, es una matriz $3D$ de tamaño: $M\\times N\\times 3$, donde la tercera dimensión es el número de canales. Debéis transformarla a imagen en escala de grises (1 solo canal), y aseguraros que el rango dinámico en el que se expresa esta imagen es: $[0, 255]$ ($8$ bits).\n",
    "\n",
    "**(B)** Para representar el histograma asociado a una imagen podéis utilizar el método: **np.histogram**. Pensad en argumentos de entrada, etc."
   ]
  },
  {
   "cell_type": "code",
   "execution_count": 1,
   "metadata": {},
   "outputs": [],
   "source": [
    "import numpy as np\n",
    "import matplotlib.pyplot as plt\n",
    "\n",
    "from skimage import io"
   ]
  },
  {
   "cell_type": "code",
   "execution_count": 2,
   "metadata": {},
   "outputs": [],
   "source": [
    "imagen = \"GreyScaleMicroscopyImage.png\" \n",
    "imagen = io.imread(imagen)"
   ]
  },
  {
   "cell_type": "code",
   "execution_count": 3,
   "metadata": {},
   "outputs": [],
   "source": [
    "print(imagen.shape)"
   ]
  },
  {
   "cell_type": "code",
   "execution_count": 4,
   "metadata": {},
   "outputs": [],
   "source": [
    "print(imagen[2][3])"
   ]
  },
  {
   "cell_type": "code",
   "execution_count": null,
   "metadata": {},
   "outputs": [],
   "source": []
  }
 ],
 "metadata": {
  "kernelspec": {
   "display_name": "Python 3",
   "language": "python",
   "name": "python3"
  },
  "language_info": {
   "codemirror_mode": {
    "name": "ipython",
    "version": 3
   },
   "file_extension": ".py",
   "mimetype": "text/x-python",
   "name": "python",
   "nbconvert_exporter": "python",
   "pygments_lexer": "ipython3",
   "version": "3.8.3"
  }
 },
 "nbformat": 4,
 "nbformat_minor": 5
}
